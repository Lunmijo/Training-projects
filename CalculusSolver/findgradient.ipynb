{
 "cells": [
  {
   "cell_type": "code",
   "execution_count": 3,
   "metadata": {},
   "outputs": [],
   "source": [
    "import sympy as sy\n",
    "from sympy import symbols, diff"
   ]
  },
  {
   "cell_type": "code",
   "execution_count": 23,
   "metadata": {},
   "outputs": [
    {
     "name": "stdout",
     "output_type": "stream",
     "text": [
      "grad_u: \n",
      "\n",
      "\n",
      " diff_x:  y/sqrt(-x**2*y**2 + 1)\n",
      "\n",
      " diff_y x/sqrt(-x**2*y**2 + 1) \n",
      "\n",
      "x:  0.377964473009227 \n",
      "\n",
      "y:  4.53557367611073 \n",
      "\n",
      "Rate u:  4.55129494916400\n",
      "\n",
      "grad_v: \n",
      "\n",
      "\n",
      " diff_x:  -y/sqrt(-x**2*y**2 + 1)\n",
      "\n",
      " diff_y -x/sqrt(-x**2*y**2 + 1) \n",
      "\n",
      "x:  -0.377964473009227 \n",
      "\n",
      "y:  -4.53557367611073 \n",
      "\n",
      "Rate v:  4.55129494916400\n",
      "Angle:  -1.00000000000000\n"
     ]
    }
   ],
   "source": [
    "x, y, z = sy.symbols('x y z', real=True)\n",
    "\n",
    "def find_gradient(f, a_x, a_y):\n",
    "    diff_x = sy.diff(f, x)\n",
    "    print(\"\\n diff_x: \", diff_x)\n",
    "    diff_y = sy.diff(f, y)\n",
    "    print(\"\\n diff_y\", diff_y, \"\\n\")\n",
    "    return [diff_x.subs([(x, a_x), (y, a_y)]), diff_y.subs([(x, a_x), (y, a_y)])]\n",
    "#f = 4*x*y + sy.sin(x)*z + x**3 + z**8*y\n",
    "#print(find_gradient(f))\n",
    "#TODO: вбивать значения с консольки\n",
    "def find_rate(some_vector):\n",
    "    print(\"x: \", some_vector[0], '\\n')\n",
    "    print(\"y: \", some_vector[1], '\\n')\n",
    "    return sy.sqrt(some_vector[0]**2 + some_vector[1]**2)\n",
    "\n",
    "def find_angle_gradients(u, v):\n",
    "    a_x = 3\n",
    "    a_y = 1/4\n",
    "    print(\"grad_u: \\n\")\n",
    "    grad_u = find_gradient(u, a_x, a_y)\n",
    "    rate_u = find_rate(grad_u)\n",
    "    print(\"Rate u: \", rate_u)\n",
    "    print(\"\\ngrad_v: \\n\")\n",
    "    grad_v = find_gradient(v, a_x, a_y)\n",
    "    rate_v = find_rate(grad_v)\n",
    "    print(\"Rate v: \", rate_v)\n",
    "    cosA = (grad_u[0]*grad_v[0]+grad_u[1]*grad_v[1])/(rate_u*rate_v)\n",
    "    return cosA\n",
    "u = sy.asin(x*y)\n",
    "v = sy.acos(x*y)\n",
    "print(\"Angle: \", find_angle_gradients(u, v))"
   ]
  },
  {
   "cell_type": "code",
   "execution_count": null,
   "metadata": {},
   "outputs": [],
   "source": []
  }
 ],
 "metadata": {
  "kernelspec": {
   "display_name": "Python 3",
   "language": "python",
   "name": "python3"
  },
  "language_info": {
   "codemirror_mode": {
    "name": "ipython",
    "version": 3
   },
   "file_extension": ".py",
   "mimetype": "text/x-python",
   "name": "python",
   "nbconvert_exporter": "python",
   "pygments_lexer": "ipython3",
   "version": "3.7.0"
  }
 },
 "nbformat": 4,
 "nbformat_minor": 2
}
